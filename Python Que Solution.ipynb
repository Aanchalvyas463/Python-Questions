{
 "cells": [
  {
   "cell_type": "markdown",
   "id": "65285a6d-8c06-4827-86bd-283351eb49da",
   "metadata": {},
   "source": [
    "## 1. Write a program to calculate Addition or Subtraction of 2 Matrices.\n"
   ]
  },
  {
   "cell_type": "code",
   "execution_count": 21,
   "id": "0ae9a14b-ef00-49e1-a577-fd951cb020e9",
   "metadata": {},
   "outputs": [
    {
     "name": "stdout",
     "output_type": "stream",
     "text": [
      "[[12 14 16]\n",
      " [18 17 25]\n",
      " [ 9 17 17]]\n",
      "[[-10 -10 -10]\n",
      " [-10  -7 -13]\n",
      " [  5  -1   1]]\n",
      "[[10 10 10]\n",
      " [10  7 13]\n",
      " [-5  1 -1]]\n"
     ]
    }
   ],
   "source": [
    "import numpy as np\n",
    "a= np.array([\n",
    "    [1,2,3],\n",
    "    [4,5,6],\n",
    "    [7,8,9]\n",
    "])\n",
    "\n",
    "b= np.array([\n",
    "    [11,12,13],\n",
    "    [14,12,19],\n",
    "    [2,9,8]\n",
    "])\n",
    "\n",
    "print( a+b)\n",
    "\n",
    "print(a-b)   # remember a-b != b-a\n",
    "\n",
    "print (b-a)"
   ]
  },
  {
   "cell_type": "markdown",
   "id": "446f6954-a775-4f48-91f3-3e1141bcf322",
   "metadata": {},
   "source": [
    "## 2. Write a program to check if a given Matrix is an Identity Matrix (Diagonal 1 Rest 0).\n"
   ]
  },
  {
   "cell_type": "code",
   "execution_count": 25,
   "id": "c5fb4304-6510-4847-8a99-daae35189157",
   "metadata": {},
   "outputs": [
    {
     "name": "stdout",
     "output_type": "stream",
     "text": [
      "It is a identity matrix :  False\n"
     ]
    }
   ],
   "source": [
    "import numpy as np\n",
    "m = np.array([\n",
    "    [1,0,0,0],\n",
    "    [0,1,0,0],\n",
    "    [0,0,5,0],\n",
    "    [0,0,0,1]\n",
    "])\n",
    "row= len(m)\n",
    "col = len(m[0])\n",
    "iden = True\n",
    "if row!=col or row==0:\n",
    "    iden= False\n",
    "else:\n",
    "    for i in range(row):\n",
    "        for j in range(col):\n",
    "            if (i == j) and (m[i][j] != 1):\n",
    "                iden = False\n",
    "                break\n",
    "            elif (i!= j) and (m[i][j] != 0):\n",
    "                iden = False\n",
    "                break    \n",
    "            \n",
    "print(\"It is a identity matrix : \",iden)               \n",
    "        "
   ]
  },
  {
   "cell_type": "markdown",
   "id": "15a3c3b5-a02a-4240-abc4-39f232f69e8a",
   "metadata": {},
   "source": [
    "## 3. Write a program to sort Rows of Matrix in Ascending Order & Columns in Descendng Order.\n"
   ]
  },
  {
   "cell_type": "code",
   "execution_count": 28,
   "id": "1467a456-000d-4b6e-822f-6d0882984b62",
   "metadata": {},
   "outputs": [
    {
     "name": "stdout",
     "output_type": "stream",
     "text": [
      "[[2 6 9]\n",
      " [1 5 8]\n",
      " [1 3 4]]\n"
     ]
    }
   ],
   "source": [
    "import numpy as np\n",
    "a = np.array([\n",
    "    [3, 1, 4],\n",
    "    [1, 5, 9],\n",
    "    [2, 6, 8]\n",
    "])\n",
    "\n",
    "rows, cols = a.shape\n",
    "sort_rows = np.sort(a, axis=1)\n",
    "\n",
    "trans = sort_rows.T\n",
    "\n",
    "col_t = np.sort(trans, axis=1)[:, ::-1]\n",
    "final = col_t.T\n",
    "\n",
    "print(final)"
   ]
  },
  {
   "cell_type": "markdown",
   "id": "790c392b-6fb6-4a7e-b171-88dd0311aa2e",
   "metadata": {},
   "source": [
    "## 4. Write a program to accept Matrix & Interchange the Diagonals.\n"
   ]
  },
  {
   "cell_type": "code",
   "execution_count": 96,
   "id": "4285ff99-6ee2-47ad-86a1-13d31ae58d6e",
   "metadata": {},
   "outputs": [
    {
     "name": "stdout",
     "output_type": "stream",
     "text": [
      "[[3, 2, 41], [4, 18, 6], [99, 8, 7]]\n"
     ]
    }
   ],
   "source": [
    "m= [[41,2,3],\n",
    "    [4,18,6],\n",
    "    [7,8,99]]\n",
    "d= m\n",
    "row = len(m)\n",
    "col = len(m[0])\n",
    "for i in range(row):\n",
    "    for j in range(col):\n",
    "        if i == j:\n",
    "           m[i][i],m[i][row-i-1] = d[i][row-i-1], d[i][i]\n",
    "\n",
    "print(d)"
   ]
  },
  {
   "cell_type": "markdown",
   "id": "e82f9046-1625-4489-8e88-ee62abd09a5c",
   "metadata": {},
   "source": [
    "## 5. Write a program to calculate Sum of Main & Opposite Diagonal Elements of a Matrix.\n"
   ]
  },
  {
   "cell_type": "code",
   "execution_count": 55,
   "id": "ee66133b-b36f-4a06-bdc6-ccfeef7cd600",
   "metadata": {},
   "outputs": [
    {
     "name": "stdout",
     "output_type": "stream",
     "text": [
      "The Sum of elements of main Diagonal is : 15\n",
      "The Sum of elements of Opposite Diagonal is : 17\n"
     ]
    }
   ],
   "source": [
    "m= [[1,2,3],\n",
    "    [4,5,6],\n",
    "    [9,8,9]]\n",
    "\n",
    "row = len(m)\n",
    "col = len(m[0])\n",
    "d= []\n",
    "od= []\n",
    "for i in range(row):\n",
    "    for j in range(col):\n",
    "        if i == j:\n",
    "           d.append(m[i][j])\n",
    "for i in range(row):\n",
    "    od.append(m[i][row-i-1])\n",
    "\n",
    "\n",
    "print(\"The Sum of elements of main Diagonal is :\", sum(d))\n",
    "print(\"The Sum of elements of Opposite Diagonal is :\", sum(od))"
   ]
  },
  {
   "cell_type": "markdown",
   "id": "2b99905a-e2a1-4667-91e3-0e6d6eecacf3",
   "metadata": {},
   "source": [
    "## 6. Write a program to calculate Trace (Sum Of Diagonal) & Normal (Square Root Of Sum Of Square Of All Elements) of a given Matrix."
   ]
  },
  {
   "cell_type": "code",
   "execution_count": 47,
   "id": "1ffd2d34-290b-4a26-adc1-885ec2ed2902",
   "metadata": {},
   "outputs": [
    {
     "name": "stdout",
     "output_type": "stream",
     "text": [
      "The Trace of Matrix is:  15\n",
      "The Normal of Matrix is:  16.881943016134134\n"
     ]
    }
   ],
   "source": [
    "\n",
    "m= [[1,2,3],\n",
    "    [4,5,6],\n",
    "    [7,8,9]]\n",
    "d =[]\n",
    "sq = []\n",
    "row = len(m)\n",
    "col = len(m[0])\n",
    "\n",
    "for i in range(row):\n",
    "    for j in range(col):\n",
    "        sq.append((m[i][j])**2)\n",
    "        if i == j:\n",
    "           d.append(m[i][j])\n",
    "        \n",
    "            \n",
    "print(\"The Trace of Matrix is: \",sum(d))\n",
    "print(\"The Normal of Matrix is: \",(sum(sq)**0.5))"
   ]
  },
  {
   "cell_type": "code",
   "execution_count": null,
   "id": "69623625-366c-4962-8b37-fe66d6cc323b",
   "metadata": {},
   "outputs": [],
   "source": []
  }
 ],
 "metadata": {
  "kernelspec": {
   "display_name": "Python 3 (ipykernel)",
   "language": "python",
   "name": "python3"
  },
  "language_info": {
   "codemirror_mode": {
    "name": "ipython",
    "version": 3
   },
   "file_extension": ".py",
   "mimetype": "text/x-python",
   "name": "python",
   "nbconvert_exporter": "python",
   "pygments_lexer": "ipython3",
   "version": "3.12.7"
  }
 },
 "nbformat": 4,
 "nbformat_minor": 5
}
